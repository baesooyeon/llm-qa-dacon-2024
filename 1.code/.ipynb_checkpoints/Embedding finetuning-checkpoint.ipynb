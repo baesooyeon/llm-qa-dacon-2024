{
 "cells": [
  {
   "cell_type": "code",
   "execution_count": 42,
   "id": "59152c43",
   "metadata": {},
   "outputs": [],
   "source": [
    "import pandas as pd\n",
    "import numpy as np\n",
    "import json\n",
    "import uuid\n",
    "import itertools"
   ]
  },
  {
   "cell_type": "code",
   "execution_count": 3,
   "id": "e8984ced",
   "metadata": {},
   "outputs": [],
   "source": [
    "summary = pd.read_csv(\"../0.data/answer_summary_modify.csv\", index_col = 0)"
   ]
  },
  {
   "cell_type": "code",
   "execution_count": 4,
   "id": "a117d1cd",
   "metadata": {
    "scrolled": true
   },
   "outputs": [
    {
     "data": {
      "text/html": [
       "<div>\n",
       "<style scoped>\n",
       "    .dataframe tbody tr th:only-of-type {\n",
       "        vertical-align: middle;\n",
       "    }\n",
       "\n",
       "    .dataframe tbody tr th {\n",
       "        vertical-align: top;\n",
       "    }\n",
       "\n",
       "    .dataframe thead th {\n",
       "        text-align: right;\n",
       "    }\n",
       "</style>\n",
       "<table border=\"1\" class=\"dataframe\">\n",
       "  <thead>\n",
       "    <tr style=\"text-align: right;\">\n",
       "      <th></th>\n",
       "      <th>idx</th>\n",
       "      <th>contents</th>\n",
       "    </tr>\n",
       "  </thead>\n",
       "  <tbody>\n",
       "    <tr>\n",
       "      <th>0</th>\n",
       "      <td>ABC 소화기</td>\n",
       "      <td>질문 : ABC 소화기란 무엇인가요?  답변 : ABC 소화기는 A, B, C 등급...</td>\n",
       "    </tr>\n",
       "    <tr>\n",
       "      <th>1</th>\n",
       "      <td>AD, PD에 면한 벽체 결로 대책</td>\n",
       "      <td>질문 :  AD, PD에 면한 벽체 결로에 대한 대책은 어떤 것이 있나요?  답변 ...</td>\n",
       "    </tr>\n",
       "    <tr>\n",
       "      <th>2</th>\n",
       "      <td>AD, PD에 면한 벽체 결로 원인</td>\n",
       "      <td>질문 :  AD, PD에 면한 벽체 결로의 원인이 뭐야?  답변 : 결로가 발생하는...</td>\n",
       "    </tr>\n",
       "    <tr>\n",
       "      <th>3</th>\n",
       "      <td>KMEW 세라믹 지붕재</td>\n",
       "      <td>질문 : KMEW 세라믹 지붕재가 뭐야?  \\nKMEW 세라믹 지붕재의 장점은 무엇...</td>\n",
       "    </tr>\n",
       "    <tr>\n",
       "      <th>4</th>\n",
       "      <td>MSDS</td>\n",
       "      <td>질문 : MSDS(Material Safety Data Sheet)는 어떤 정보를 ...</td>\n",
       "    </tr>\n",
       "  </tbody>\n",
       "</table>\n",
       "</div>"
      ],
      "text/plain": [
       "                   idx                                           contents\n",
       "0              ABC 소화기  질문 : ABC 소화기란 무엇인가요?  답변 : ABC 소화기는 A, B, C 등급...\n",
       "1  AD, PD에 면한 벽체 결로 대책  질문 :  AD, PD에 면한 벽체 결로에 대한 대책은 어떤 것이 있나요?  답변 ...\n",
       "2  AD, PD에 면한 벽체 결로 원인  질문 :  AD, PD에 면한 벽체 결로의 원인이 뭐야?  답변 : 결로가 발생하는...\n",
       "3         KMEW 세라믹 지붕재  질문 : KMEW 세라믹 지붕재가 뭐야?  \\nKMEW 세라믹 지붕재의 장점은 무엇...\n",
       "4                 MSDS  질문 : MSDS(Material Safety Data Sheet)는 어떤 정보를 ..."
      ]
     },
     "execution_count": 4,
     "metadata": {},
     "output_type": "execute_result"
    }
   ],
   "source": [
    "summary.head(5)"
   ]
  },
  {
   "cell_type": "code",
   "execution_count": 5,
   "id": "37aaf8bc",
   "metadata": {},
   "outputs": [],
   "source": [
    "# contents안의 질문 및 답변 나누기\n",
    "## [[질문1, 답변1], [질문2, 답변2], ... [질문n, 답변n]]의 형식 만들기\n",
    "\n",
    "train_new = []\n",
    "valid_new = []\n",
    "for i in range(len(summary[\"contents\"][:354])):\n",
    "    q = summary.iloc[i,1].split(\"답변 :\")[0].split(\"질문 : \")[1].strip()\n",
    "    a = summary.iloc[i,1].split(\"답변 :\")[1].strip()\n",
    "    train_new.append([q.split(\"\\n\"), a])\n",
    "    \n",
    "for i in range(len(summary[\"contents\"][354:])):\n",
    "    q = summary.iloc[i,1].split(\"답변 :\")[0].split(\"질문 : \")[1].strip()\n",
    "    a = summary.iloc[i,1].split(\"답변 :\")[1].strip()\n",
    "    valid_new.append([q.split(\"\\n\"), a])\n",
    "    \n",
    "    \n",
    "train_pre_new = []\n",
    "valid_pre_new = []\n",
    "for i in train_new:\n",
    "    for j in i[0]:\n",
    "        train_pre_new.append([j.strip(),i[1].strip()])\n",
    "        \n",
    "for i in valid_new:\n",
    "    for j in i[0]:\n",
    "        valid_pre_new.append([j.strip(),i[1].strip()])"
   ]
  },
  {
   "cell_type": "code",
   "execution_count": 25,
   "id": "bc88237d",
   "metadata": {},
   "outputs": [
    {
     "name": "stdout",
     "output_type": "stream",
     "text": [
      "train 형식 : \n",
      " [['ABC 소화기란 무엇인가요?', 'ABC 소화기는 A, B, C 등급의 화재를 진압할 수 있는 소화기로, A는 일반화재, B는 유류 화재, C는 전기 화재를 의미합니다. ABC 소화기는 다양한 종류의 화재에 대처할 수 있어서 일반적으로 많이 사용됩니다. 이러한 분류는 소화기가 다양한 화재 유형에 대응할 수 있도록 하는 역할을 합니다.'], ['AD, PD에 면한 벽체 결로에 대한 대책은 어떤 것이 있나요?', 'AD, PD에 면한 벽체 결로에 대한 대책은 단열재를 미실하게 시공하여 결로가 생기는 벽체의 표면 온도를 노점온도 이상으로 유지하는 것이 중요합니다. 또한, 외피재와의 기밀성을 유지하고 습기 유입을 차단하며, 건조한 환경을 유지하고 벽체의 통풍을 개선하여 습기가 벽체 내부로 퍼지는 것을 방지해야 합니다.']]\n",
      "\n",
      "valid 형식 : \n",
      " [['ABC 소화기란 무엇인가요?', 'ABC 소화기는 A, B, C 등급의 화재를 진압할 수 있는 소화기로, A는 일반화재, B는 유류 화재, C는 전기 화재를 의미합니다. ABC 소화기는 다양한 종류의 화재에 대처할 수 있어서 일반적으로 많이 사용됩니다. 이러한 분류는 소화기가 다양한 화재 유형에 대응할 수 있도록 하는 역할을 합니다.'], ['AD, PD에 면한 벽체 결로에 대한 대책은 어떤 것이 있나요?', 'AD, PD에 면한 벽체 결로에 대한 대책은 단열재를 미실하게 시공하여 결로가 생기는 벽체의 표면 온도를 노점온도 이상으로 유지하는 것이 중요합니다. 또한, 외피재와의 기밀성을 유지하고 습기 유입을 차단하며, 건조한 환경을 유지하고 벽체의 통풍을 개선하여 습기가 벽체 내부로 퍼지는 것을 방지해야 합니다.']]\n"
     ]
    }
   ],
   "source": [
    "# train, vadli 형식 : [[질문1, 질문2, ..., 질문n], 답변]\n",
    "print(\"train 형식 : \\n\",train_pre_new[:2])\n",
    "print()\n",
    "print(\"valid 형식 : \\n\",valid_pre_new[:2])"
   ]
  },
  {
   "cell_type": "markdown",
   "id": "24fb41db",
   "metadata": {},
   "source": [
    "# Make dataset for Embedding Fine-tuning"
   ]
  },
  {
   "cell_type": "code",
   "execution_count": 9,
   "id": "8aa04ce1",
   "metadata": {},
   "outputs": [
    {
     "data": {
      "text/plain": [
       "'1cc7f84c-f5b4-11ee-9575-b3f486b52161'"
      ]
     },
     "execution_count": 9,
     "metadata": {},
     "output_type": "execute_result"
    }
   ],
   "source": [
    "# 고유번호 만들기\n",
    "str(uuid.uuid1())"
   ]
  },
  {
   "cell_type": "code",
   "execution_count": 32,
   "id": "2bcc8d7f",
   "metadata": {},
   "outputs": [],
   "source": [
    "train = train_pre_new\n",
    "valid = valid_pre_new"
   ]
  },
  {
   "cell_type": "markdown",
   "id": "a3251976",
   "metadata": {},
   "source": [
    "##### train&valid"
   ]
  },
  {
   "cell_type": "code",
   "execution_count": 33,
   "id": "4d75842f",
   "metadata": {},
   "outputs": [],
   "source": [
    "# query_dict_train : {\"uuid1\" : 질문1}의 형식\n",
    "# query_dict_temp_train : {질문1: \"uuid1\"}의 형식\n",
    "\n",
    "def query_dict(train):\n",
    "    query_dict_train = {}\n",
    "    query_dict_temp_train = {}\n",
    "    for query in train:\n",
    "        id_ = uuid.uuid1()\n",
    "        query_dict_train[str(id_)] = query[0]\n",
    "        query_dict_temp_train[query[0]] = str(id_)\n",
    "    return query_dict_train, query_dict_temp_train"
   ]
  },
  {
   "cell_type": "code",
   "execution_count": 34,
   "id": "8b00a2b4",
   "metadata": {},
   "outputs": [],
   "source": [
    "query_dict_train, query_dict_temp_train = query_dict(train)\n",
    "query_dict_valid, query_dict_temp_valid = query_dict(valid)"
   ]
  },
  {
   "cell_type": "code",
   "execution_count": 50,
   "id": "31683284",
   "metadata": {},
   "outputs": [
    {
     "name": "stdout",
     "output_type": "stream",
     "text": [
      "query_dict_train 형식 : \n",
      "{'621c64df-f735-11ee-b291-b3f486b52161': 'ABC 소화기란 무엇인가요?', '621c64e0-f735-11ee-866d-b3f486b52161': 'AD, PD에 면한 벽체 결로에 대한 대책은 어떤 것이 있나요?'}\n",
      "\n",
      "query_dict_temp_train 형식 : \n",
      "{'ABC 소화기란 무엇인가요?': '621c64df-f735-11ee-b291-b3f486b52161', 'AD, PD에 면한 벽체 결로에 대한 대책은 어떤 것이 있나요?': '621c64e0-f735-11ee-866d-b3f486b52161'}\n"
     ]
    }
   ],
   "source": [
    "# valid도 같은 형식\n",
    "print(f\"query_dict_train 형식 : \\n{dict(itertools.islice(query_dict_train.items(),2))}\")\n",
    "print()\n",
    "print(f\"query_dict_temp_train 형식 : \\n{dict(itertools.islice(query_dict_temp_train.items(),2))}\")"
   ]
  },
  {
   "cell_type": "code",
   "execution_count": 55,
   "id": "1052c406",
   "metadata": {},
   "outputs": [],
   "source": [
    "# cont_dict : {\"uuid1\" : 답변1}의 형식\n",
    "# cont_dict_temp : {답변1: \"uuid1\"}의 형식\n",
    "\n",
    "def cont_dict(pre_new):\n",
    "    unique_contents = set()\n",
    "    for i in pre_new:\n",
    "        unique_contents.add(i[1])\n",
    "        \n",
    "    unique_contents = list(unique_contents)\n",
    "    \n",
    "    cont_dict = {}\n",
    "    cont_dict_temp = {}\n",
    "    \n",
    "    for contents in unique_contents:\n",
    "        id_ = uuid.uuid1()\n",
    "        cont_dict[str(id_)] = contents\n",
    "        cont_dict_temp[contents] = str(id_)\n",
    "    return cont_dict, cont_dict_temp"
   ]
  },
  {
   "cell_type": "code",
   "execution_count": 56,
   "id": "806cb5fa",
   "metadata": {},
   "outputs": [],
   "source": [
    "cont_dict_train, cont_dict_temp_train = cont_dict(train)\n",
    "cont_dict_valid, cont_dict_temp_valid = cont_dict(valid)"
   ]
  },
  {
   "cell_type": "code",
   "execution_count": 57,
   "id": "4188823f",
   "metadata": {},
   "outputs": [
    {
     "name": "stdout",
     "output_type": "stream",
     "text": [
      "cont_dict_train 형식 : \n",
      "{'a0bbe1bd-f739-11ee-87e0-b3f486b52161': '스폰지, 타공보드, 목모보드, 아트보드 등이 다공질 흡음재의 종류로 있습니다. 또한, 코르크, 액자나 그림을 거는 캔버스, 천, 타일 등도 다공질 흡음재로 사용될 수 있습니다. 이러한 재료는 각각의 특징에 따라 음향 흡수 기능에 맞게 선택하여 사용됩니다. 추가적으로 악기용 흡음재나 고성능 음향 처리 시스템과 같은 고급 흡음재도 있을 수 있습니다. 이러한 흡음재들을 효과적으로 활용하여 다양한 공간에서 소음과 반향을 제어할 수 있습니다.', 'a0bbe1be-f739-11ee-a831-b3f486b52161': '대리석 타일은 고가의 천연석으로 고급스러운 외관과 내구성으로 유명합니다. 대리석은 자연스러운 무늬와 다양한 색상으로 실내 공간을 화려하게 만들어줍니다. 대리석은 유지 보수가 어렵고 설치 비용이 많이 들어 비싼 바닥재로 알려져 있습니다. 대리석은 고급 대리석 타일로 가장 고급스러운 인테리어를 만들어줄 수 있습니다.'}\n",
      "\n",
      "cont_dict_temp_train 형식 : \n",
      "{'스폰지, 타공보드, 목모보드, 아트보드 등이 다공질 흡음재의 종류로 있습니다. 또한, 코르크, 액자나 그림을 거는 캔버스, 천, 타일 등도 다공질 흡음재로 사용될 수 있습니다. 이러한 재료는 각각의 특징에 따라 음향 흡수 기능에 맞게 선택하여 사용됩니다. 추가적으로 악기용 흡음재나 고성능 음향 처리 시스템과 같은 고급 흡음재도 있을 수 있습니다. 이러한 흡음재들을 효과적으로 활용하여 다양한 공간에서 소음과 반향을 제어할 수 있습니다.': 'a0bbe1bd-f739-11ee-87e0-b3f486b52161', '대리석 타일은 고가의 천연석으로 고급스러운 외관과 내구성으로 유명합니다. 대리석은 자연스러운 무늬와 다양한 색상으로 실내 공간을 화려하게 만들어줍니다. 대리석은 유지 보수가 어렵고 설치 비용이 많이 들어 비싼 바닥재로 알려져 있습니다. 대리석은 고급 대리석 타일로 가장 고급스러운 인테리어를 만들어줄 수 있습니다.': 'a0bbe1be-f739-11ee-a831-b3f486b52161'}\n"
     ]
    }
   ],
   "source": [
    "# valid도 같은 형식\n",
    "print(f\"cont_dict_train 형식 : \\n{dict(itertools.islice(cont_dict_train.items(),2))}\")\n",
    "print()\n",
    "print(f\"cont_dict_temp_train 형식 : \\n{dict(itertools.islice(cont_dict_temp_train.items(),2))}\")"
   ]
  },
  {
   "cell_type": "code",
   "execution_count": 58,
   "id": "0b2bc042",
   "metadata": {},
   "outputs": [],
   "source": [
    "# id_match_train : {\"질문 uuid\" : [\"답변 uuid\"]}\n",
    "\n",
    "def make_id_match(pre_new, query_dict_temp, cont_dict_temp):\n",
    "    id_match_train = {}\n",
    "    for i in pre_new:\n",
    "        id_match_train[query_dict_temp[i[0]]] = [cont_dict_temp[i[1]]]\n",
    "    return id_match_train"
   ]
  },
  {
   "cell_type": "code",
   "execution_count": 59,
   "id": "eb4b4546",
   "metadata": {},
   "outputs": [],
   "source": [
    "id_match_train = make_id_match(train, query_dict_temp_train, cont_dict_temp_train)\n",
    "id_match_valid = make_id_match(valid, query_dict_temp_valid, cont_dict_temp_valid)"
   ]
  },
  {
   "cell_type": "code",
   "execution_count": 62,
   "id": "6a0a3b4f",
   "metadata": {},
   "outputs": [
    {
     "name": "stdout",
     "output_type": "stream",
     "text": [
      "id_match_train 형식 : \n",
      "{'621c64df-f735-11ee-b291-b3f486b52161': ['a0bc7f74-f739-11ee-be15-b3f486b52161'], '621c64e0-f735-11ee-866d-b3f486b52161': ['a0bc4415-f739-11ee-8c66-b3f486b52161']}\n"
     ]
    }
   ],
   "source": [
    "# valid도 같은 형식\n",
    "print(f\"id_match_train 형식 : \\n{dict(itertools.islice(id_match_train.items(),2))}\")"
   ]
  },
  {
   "cell_type": "code",
   "execution_count": 63,
   "id": "f54a01be",
   "metadata": {},
   "outputs": [
    {
     "name": "stdout",
     "output_type": "stream",
     "text": [
      "train의 개수 : 676\n",
      "valid의 개수 : 131\n"
     ]
    }
   ],
   "source": [
    "print(f\"train의 개수 : {len(id_match_train)}\")\n",
    "print(f\"valid의 개수 : {len(id_match_valid)}\")"
   ]
  },
  {
   "cell_type": "code",
   "execution_count": 67,
   "id": "df1b3624",
   "metadata": {},
   "outputs": [],
   "source": [
    "# {\"queries\" : {\"uuid\":질문, ...} , \"corpus\" : {uuid\" : 답변, ...}, \"relevant_docs\" : {질문 uuid : [답변 uuid]}\n",
    "train = {\"queries\" : query_dict_train,\n",
    "        \"corpus\" :cont_dict_train,\n",
    "        \"relevant_docs\" : id_match_train}\n",
    "\n",
    "valid = {\"queries\" : query_dict_valid,\n",
    "        \"corpus\" :cont_dict_valid,\n",
    "        \"relevant_docs\" : id_match_valid}"
   ]
  },
  {
   "cell_type": "code",
   "execution_count": 52,
   "id": "086c63e5",
   "metadata": {},
   "outputs": [],
   "source": [
    "# 저장하기\n",
    "with open(\"./embedding_train_all.json\",\"w\", encoding= \"utf-8-sig\") as f:\n",
    "    json.dump(train, f,  ensure_ascii=False)\n",
    "    \n",
    "    \n",
    "with open(\"./embedding_valid.json\",\"w\", encoding= \"utf-8-sig\") as f:\n",
    "    json.dump(valid, f,  ensure_ascii=False)"
   ]
  }
 ],
 "metadata": {
  "kernelspec": {
   "display_name": "Python 3 (ipykernel)",
   "language": "python",
   "name": "python3"
  },
  "language_info": {
   "codemirror_mode": {
    "name": "ipython",
    "version": 3
   },
   "file_extension": ".py",
   "mimetype": "text/x-python",
   "name": "python",
   "nbconvert_exporter": "python",
   "pygments_lexer": "ipython3",
   "version": "3.11.5"
  }
 },
 "nbformat": 4,
 "nbformat_minor": 5
}
