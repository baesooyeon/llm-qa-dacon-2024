{
 "cells": [
  {
   "cell_type": "code",
   "execution_count": 1,
   "id": "9c25fc65-a34b-40ee-8b76-3783591d9e21",
   "metadata": {},
   "outputs": [],
   "source": [
    "import pandas as pd\n",
    "import numpy as np\n",
    "from sentence_transformers import SentenceTransformer\n",
    "import json\n",
    "from torch.utils.data import DataLoader\n",
    "from sentence_transformers import InputExample\n",
    "from sentence_transformers.evaluation import InformationRetrievalEvaluator\n",
    "from sentence_transformers import losses\n",
    "import os\n",
    "import torch\n",
    "from datasets import load_dataset\n",
    "from transformers import (\n",
    "    AutoModelForCausalLM,\n",
    "    AutoTokenizer,\n",
    "    BitsAndBytesConfig,\n",
    "    TrainingArguments,\n",
    "    pipeline,\n",
    "    logging,\n",
    ")\n",
    "from langchain import HuggingFacePipeline\n",
    "from langchain.embeddings import HuggingFaceEmbeddings\n",
    "from langchain.vectorstores import FAISS\n",
    "from langchain.chains import ConversationalRetrievalChain\n",
    "from peft import LoraConfig, PeftModel\n",
    "import uuid\n",
    "import itertools"
   ]
  },
  {
   "cell_type": "markdown",
   "id": "b60b9a64-1c69-402d-9471-1ed7e26df13e",
   "metadata": {},
   "source": [
    "# Load Data"
   ]
  },
  {
   "cell_type": "code",
   "execution_count": 2,
   "id": "36ff196f-d427-4bd3-9e00-5b617fd4d11c",
   "metadata": {},
   "outputs": [],
   "source": [
    "summary = pd.read_csv(\"./datasets/etc/answer_summary_modify.csv\", index_col = 0)  # 각자 맞는 경로 설정"
   ]
  },
  {
   "cell_type": "code",
   "execution_count": 3,
   "id": "db827e18-4058-4b2b-aec4-500cc8e83d5d",
   "metadata": {},
   "outputs": [
    {
     "data": {
      "text/html": [
       "<div>\n",
       "<style scoped>\n",
       "    .dataframe tbody tr th:only-of-type {\n",
       "        vertical-align: middle;\n",
       "    }\n",
       "\n",
       "    .dataframe tbody tr th {\n",
       "        vertical-align: top;\n",
       "    }\n",
       "\n",
       "    .dataframe thead th {\n",
       "        text-align: right;\n",
       "    }\n",
       "</style>\n",
       "<table border=\"1\" class=\"dataframe\">\n",
       "  <thead>\n",
       "    <tr style=\"text-align: right;\">\n",
       "      <th></th>\n",
       "      <th>idx</th>\n",
       "      <th>contents</th>\n",
       "    </tr>\n",
       "  </thead>\n",
       "  <tbody>\n",
       "    <tr>\n",
       "      <th>0</th>\n",
       "      <td>ABC 소화기</td>\n",
       "      <td>질문 : ABC 소화기란 무엇인가요?  답변 : ABC 소화기는 A, B, C 등급...</td>\n",
       "    </tr>\n",
       "    <tr>\n",
       "      <th>1</th>\n",
       "      <td>AD, PD에 면한 벽체 결로 대책</td>\n",
       "      <td>질문 :  AD, PD에 면한 벽체 결로에 대한 대책은 어떤 것이 있나요?  답변 ...</td>\n",
       "    </tr>\n",
       "    <tr>\n",
       "      <th>2</th>\n",
       "      <td>AD, PD에 면한 벽체 결로 원인</td>\n",
       "      <td>질문 :  AD, PD에 면한 벽체 결로의 원인이 뭐야?  답변 : 결로가 발생하는...</td>\n",
       "    </tr>\n",
       "    <tr>\n",
       "      <th>3</th>\n",
       "      <td>KMEW 세라믹 지붕재</td>\n",
       "      <td>질문 : KMEW 세라믹 지붕재가 뭐야?  \\nKMEW 세라믹 지붕재의 장점은 무엇...</td>\n",
       "    </tr>\n",
       "    <tr>\n",
       "      <th>4</th>\n",
       "      <td>MSDS</td>\n",
       "      <td>질문 : MSDS(Material Safety Data Sheet)는 어떤 정보를 ...</td>\n",
       "    </tr>\n",
       "  </tbody>\n",
       "</table>\n",
       "</div>"
      ],
      "text/plain": [
       "                   idx                                           contents\n",
       "0              ABC 소화기  질문 : ABC 소화기란 무엇인가요?  답변 : ABC 소화기는 A, B, C 등급...\n",
       "1  AD, PD에 면한 벽체 결로 대책  질문 :  AD, PD에 면한 벽체 결로에 대한 대책은 어떤 것이 있나요?  답변 ...\n",
       "2  AD, PD에 면한 벽체 결로 원인  질문 :  AD, PD에 면한 벽체 결로의 원인이 뭐야?  답변 : 결로가 발생하는...\n",
       "3         KMEW 세라믹 지붕재  질문 : KMEW 세라믹 지붕재가 뭐야?  \\nKMEW 세라믹 지붕재의 장점은 무엇...\n",
       "4                 MSDS  질문 : MSDS(Material Safety Data Sheet)는 어떤 정보를 ..."
      ]
     },
     "execution_count": 3,
     "metadata": {},
     "output_type": "execute_result"
    }
   ],
   "source": [
    "summary.head(5)"
   ]
  },
  {
   "cell_type": "code",
   "execution_count": 4,
   "id": "b0a411e5-cbec-4365-8a8c-525860782f5f",
   "metadata": {},
   "outputs": [],
   "source": [
    "# contents안의 질문 및 답변 나누기\n",
    "## [[질문1, 답변1], [질문2, 답변2], ... [질문n, 답변n]]의 형식 만들기\n",
    "\n",
    "train_new = []\n",
    "valid_new = []\n",
    "for i in range(len(summary[\"contents\"][:354])):\n",
    "    q = summary.iloc[i,1].split(\"답변 :\")[0].split(\"질문 : \")[1].strip()\n",
    "    a = summary.iloc[i,1].split(\"답변 :\")[1].strip()\n",
    "    train_new.append([q.split(\"\\n\"), a])\n",
    "    \n",
    "for i in range(len(summary[\"contents\"][354:])):\n",
    "    q = summary.iloc[i,1].split(\"답변 :\")[0].split(\"질문 : \")[1].strip()\n",
    "    a = summary.iloc[i,1].split(\"답변 :\")[1].strip()\n",
    "    valid_new.append([q.split(\"\\n\"), a])\n",
    "    \n",
    "    \n",
    "train_pre_new = []\n",
    "valid_pre_new = []\n",
    "for i in train_new:\n",
    "    for j in i[0]:\n",
    "        train_pre_new.append([j.strip(),i[1].strip()])\n",
    "        \n",
    "for i in valid_new:\n",
    "    for j in i[0]:\n",
    "        valid_pre_new.append([j.strip(),i[1].strip()])"
   ]
  },
  {
   "cell_type": "code",
   "execution_count": 5,
   "id": "5c089160-0f6b-47ab-8585-0fb80c3781d8",
   "metadata": {},
   "outputs": [
    {
     "name": "stdout",
     "output_type": "stream",
     "text": [
      "train 형식 : \n",
      " [['ABC 소화기란 무엇인가요?', 'ABC 소화기는 A, B, C 등급의 화재를 진압할 수 있는 소화기로, A는 일반화재, B는 유류 화재, C는 전기 화재를 의미합니다. ABC 소화기는 다양한 종류의 화재에 대처할 수 있어서 일반적으로 많이 사용됩니다. 이러한 분류는 소화기가 다양한 화재 유형에 대응할 수 있도록 하는 역할을 합니다.'], ['AD, PD에 면한 벽체 결로에 대한 대책은 어떤 것이 있나요?', 'AD, PD에 면한 벽체 결로에 대한 대책은 단열재를 미실하게 시공하여 결로가 생기는 벽체의 표면 온도를 노점온도 이상으로 유지하는 것이 중요합니다. 또한, 외피재와의 기밀성을 유지하고 습기 유입을 차단하며, 건조한 환경을 유지하고 벽체의 통풍을 개선하여 습기가 벽체 내부로 퍼지는 것을 방지해야 합니다.']]\n",
      "\n",
      "valid 형식 : \n",
      " [['ABC 소화기란 무엇인가요?', 'ABC 소화기는 A, B, C 등급의 화재를 진압할 수 있는 소화기로, A는 일반화재, B는 유류 화재, C는 전기 화재를 의미합니다. ABC 소화기는 다양한 종류의 화재에 대처할 수 있어서 일반적으로 많이 사용됩니다. 이러한 분류는 소화기가 다양한 화재 유형에 대응할 수 있도록 하는 역할을 합니다.'], ['AD, PD에 면한 벽체 결로에 대한 대책은 어떤 것이 있나요?', 'AD, PD에 면한 벽체 결로에 대한 대책은 단열재를 미실하게 시공하여 결로가 생기는 벽체의 표면 온도를 노점온도 이상으로 유지하는 것이 중요합니다. 또한, 외피재와의 기밀성을 유지하고 습기 유입을 차단하며, 건조한 환경을 유지하고 벽체의 통풍을 개선하여 습기가 벽체 내부로 퍼지는 것을 방지해야 합니다.']]\n"
     ]
    }
   ],
   "source": [
    "# train, vadli 형식 : [[질문1, 질문2, ..., 질문n], 답변]\n",
    "print(\"train 형식 : \\n\",train_pre_new[:2])\n",
    "print()\n",
    "print(\"valid 형식 : \\n\",valid_pre_new[:2])"
   ]
  },
  {
   "cell_type": "markdown",
   "id": "2f420e39-f62a-46f5-a392-72d009788647",
   "metadata": {},
   "source": [
    "# Make dataset for Embeddig Fine-tuning"
   ]
  },
  {
   "cell_type": "code",
   "execution_count": 6,
   "id": "1559cad4-6bf1-4d5e-96a6-5e3ce7d82292",
   "metadata": {},
   "outputs": [
    {
     "data": {
      "text/plain": [
       "'155a238a-f7dc-11ee-992e-0242ac110007'"
      ]
     },
     "execution_count": 6,
     "metadata": {},
     "output_type": "execute_result"
    }
   ],
   "source": [
    "# 고유번호 만들기\n",
    "str(uuid.uuid1())"
   ]
  },
  {
   "cell_type": "code",
   "execution_count": 7,
   "id": "94e1e548-6b1c-46bc-902f-6b02ed89e5b4",
   "metadata": {},
   "outputs": [],
   "source": [
    "train = train_pre_new\n",
    "valid = valid_pre_new"
   ]
  },
  {
   "cell_type": "markdown",
   "id": "9d3cae19-765a-408e-b91d-36844bc90f1f",
   "metadata": {},
   "source": [
    "### train&valid"
   ]
  },
  {
   "cell_type": "code",
   "execution_count": 8,
   "id": "fc447263-5847-4c2e-ac52-bb732129c81b",
   "metadata": {},
   "outputs": [],
   "source": [
    "# query_dict_train : {\"uuid1\" : 질문1}의 형식\n",
    "# query_dict_temp_train : {질문1: \"uuid1\"}의 형식\n",
    "\n",
    "def query_dict(train):\n",
    "    query_dict_train = {}\n",
    "    query_dict_temp_train = {}\n",
    "    for query in train:\n",
    "        id_ = uuid.uuid1()\n",
    "        query_dict_train[str(id_)] = query[0]\n",
    "        query_dict_temp_train[query[0]] = str(id_)\n",
    "    return query_dict_train, query_dict_temp_train"
   ]
  },
  {
   "cell_type": "code",
   "execution_count": 9,
   "id": "a08e7a53-baaa-40a8-b797-819249f35ffb",
   "metadata": {},
   "outputs": [],
   "source": [
    "query_dict_train, query_dict_temp_train = query_dict(train)\n",
    "query_dict_valid, query_dict_temp_valid = query_dict(valid)"
   ]
  },
  {
   "cell_type": "code",
   "execution_count": 10,
   "id": "fe7f3159-7994-4163-8652-f6805be70977",
   "metadata": {},
   "outputs": [
    {
     "name": "stdout",
     "output_type": "stream",
     "text": [
      "query_dict_train 형식 : \n",
      "{'16e2b618-f7dc-11ee-992e-0242ac110007': 'ABC 소화기란 무엇인가요?', '16e2b6a4-f7dc-11ee-992e-0242ac110007': 'AD, PD에 면한 벽체 결로에 대한 대책은 어떤 것이 있나요?'}\n",
      "\n",
      "query_dict_temp_train 형식 : \n",
      "{'ABC 소화기란 무엇인가요?': '16e2b618-f7dc-11ee-992e-0242ac110007', 'AD, PD에 면한 벽체 결로에 대한 대책은 어떤 것이 있나요?': '16e2b6a4-f7dc-11ee-992e-0242ac110007'}\n"
     ]
    }
   ],
   "source": [
    "# valid도 같은 형식\n",
    "print(f\"query_dict_train 형식 : \\n{dict(itertools.islice(query_dict_train.items(),2))}\")\n",
    "print()\n",
    "print(f\"query_dict_temp_train 형식 : \\n{dict(itertools.islice(query_dict_temp_train.items(),2))}\")"
   ]
  },
  {
   "cell_type": "code",
   "execution_count": 11,
   "id": "019ef591-27f6-492a-97dc-5bc22559dd12",
   "metadata": {},
   "outputs": [],
   "source": [
    "# cont_dict : {\"uuid1\" : 답변1}의 형식\n",
    "# cont_dict_temp : {답변1: \"uuid1\"}의 형식\n",
    "\n",
    "def cont_dict(pre_new):\n",
    "    unique_contents = set()\n",
    "    for i in pre_new:\n",
    "        unique_contents.add(i[1])\n",
    "        \n",
    "    unique_contents = list(unique_contents)\n",
    "    \n",
    "    cont_dict = {}\n",
    "    cont_dict_temp = {}\n",
    "    \n",
    "    for contents in unique_contents:\n",
    "        id_ = uuid.uuid1()\n",
    "        cont_dict[str(id_)] = contents\n",
    "        cont_dict_temp[contents] = str(id_)\n",
    "    return cont_dict, cont_dict_temp"
   ]
  },
  {
   "cell_type": "code",
   "execution_count": 12,
   "id": "e2bf56da-8b51-45ad-aa00-245c6d656952",
   "metadata": {},
   "outputs": [],
   "source": [
    "cont_dict_train, cont_dict_temp_train = cont_dict(train)\n",
    "cont_dict_valid, cont_dict_temp_valid = cont_dict(valid)"
   ]
  },
  {
   "cell_type": "code",
   "execution_count": 13,
   "id": "ba2fbabd-8486-4ab0-b79c-32a51884b542",
   "metadata": {},
   "outputs": [
    {
     "name": "stdout",
     "output_type": "stream",
     "text": [
      "cont_dict_train 형식 : \n",
      "{'1834ac74-f7dc-11ee-992e-0242ac110007': '시트 방수재는 수지를 기본으로 안정제, 향균제, 방염제, 초내후성 안료를 혼합하여 제조한 방수제로, 바탕면과 무관하게 시공이 가능합니다. 외단열 공법을 통해 에너지를 절감할 수 있으며, 옥상, 지붕, 판넬 지붕 등에 사용됩니다. 내약품성을 갖고 있는 제품은 옥상 녹화, 옥상 정원 구조에 적합하며, 구조물의 진동, 균열, 수축, 팽창 등이 예상되는 장소에 적합합니다. 시트 이음매를 접합하여 누수를 방지할 수 있는 특징을 가지고 있습니다.', '1834af3a-f7dc-11ee-992e-0242ac110007': '부엌과 욕실의 결로를 방지하기 위한 가장 중요한 대책은 환기구를 설치하는 것입니다. 부엌과 욕실은 물을 많이 사용하고 많은 수증기가 발생하기 때문에 결로가 발생할 수 있습니다. 따라서 두꺼운 단열재만으로는 결로를 방지하기 어렵기 때문에 충분한 환기 시스템을 구축하여 수증기를 외부로 배출하는 것이 중요합니다. 또한, 부엌과 욕실을 주기적으로 완전히 건조시키고 수분이 고여있는 곳을 청소하고 건조하는 것도 결로 방지에 도움이 됩니다. 결로는 외벽이나 비 난방공간에 접한 부엌이나 욕실에서 외부의 차가운 표면온도와 내부의 높은 습도가 결합되어 발생할 수 있는데, 이러한 상황을 예방하기 위해 적절한 환기와 수분 제거가 필요합니다.'}\n",
      "\n",
      "cont_dict_temp_train 형식 : \n",
      "{'시트 방수재는 수지를 기본으로 안정제, 향균제, 방염제, 초내후성 안료를 혼합하여 제조한 방수제로, 바탕면과 무관하게 시공이 가능합니다. 외단열 공법을 통해 에너지를 절감할 수 있으며, 옥상, 지붕, 판넬 지붕 등에 사용됩니다. 내약품성을 갖고 있는 제품은 옥상 녹화, 옥상 정원 구조에 적합하며, 구조물의 진동, 균열, 수축, 팽창 등이 예상되는 장소에 적합합니다. 시트 이음매를 접합하여 누수를 방지할 수 있는 특징을 가지고 있습니다.': '1834ac74-f7dc-11ee-992e-0242ac110007', '부엌과 욕실의 결로를 방지하기 위한 가장 중요한 대책은 환기구를 설치하는 것입니다. 부엌과 욕실은 물을 많이 사용하고 많은 수증기가 발생하기 때문에 결로가 발생할 수 있습니다. 따라서 두꺼운 단열재만으로는 결로를 방지하기 어렵기 때문에 충분한 환기 시스템을 구축하여 수증기를 외부로 배출하는 것이 중요합니다. 또한, 부엌과 욕실을 주기적으로 완전히 건조시키고 수분이 고여있는 곳을 청소하고 건조하는 것도 결로 방지에 도움이 됩니다. 결로는 외벽이나 비 난방공간에 접한 부엌이나 욕실에서 외부의 차가운 표면온도와 내부의 높은 습도가 결합되어 발생할 수 있는데, 이러한 상황을 예방하기 위해 적절한 환기와 수분 제거가 필요합니다.': '1834af3a-f7dc-11ee-992e-0242ac110007'}\n"
     ]
    }
   ],
   "source": [
    "# valid도 같은 형식\n",
    "print(f\"cont_dict_train 형식 : \\n{dict(itertools.islice(cont_dict_train.items(),2))}\")\n",
    "print()\n",
    "print(f\"cont_dict_temp_train 형식 : \\n{dict(itertools.islice(cont_dict_temp_train.items(),2))}\")"
   ]
  },
  {
   "cell_type": "code",
   "execution_count": 14,
   "id": "90feb557-b239-417a-982e-99c2f14dd98b",
   "metadata": {},
   "outputs": [],
   "source": [
    "# id_match_train : {\"질문 uuid\" : [\"답변 uuid\"]}\n",
    "\n",
    "def make_id_match(pre_new, query_dict_temp, cont_dict_temp):\n",
    "    id_match_train = {}\n",
    "    for i in pre_new:\n",
    "        id_match_train[query_dict_temp[i[0]]] = [cont_dict_temp[i[1]]]\n",
    "    return id_match_train"
   ]
  },
  {
   "cell_type": "code",
   "execution_count": 15,
   "id": "502de3e2-0f31-4b0c-a2a9-bebd26b8f0cf",
   "metadata": {},
   "outputs": [],
   "source": [
    "id_match_train = make_id_match(train, query_dict_temp_train, cont_dict_temp_train)\n",
    "id_match_valid = make_id_match(valid, query_dict_temp_valid, cont_dict_temp_valid)"
   ]
  },
  {
   "cell_type": "code",
   "execution_count": 16,
   "id": "23fe55dc-09ed-4769-806a-c5ff2d71d8ca",
   "metadata": {},
   "outputs": [
    {
     "name": "stdout",
     "output_type": "stream",
     "text": [
      "id_match_train 형식 : \n",
      "{'16e2b618-f7dc-11ee-992e-0242ac110007': ['18352794-f7dc-11ee-992e-0242ac110007'], '16e2b6a4-f7dc-11ee-992e-0242ac110007': ['18351fb0-f7dc-11ee-992e-0242ac110007']}\n"
     ]
    }
   ],
   "source": [
    "# valid도 같은 형식\n",
    "print(f\"id_match_train 형식 : \\n{dict(itertools.islice(id_match_train.items(),2))}\")"
   ]
  },
  {
   "cell_type": "code",
   "execution_count": 17,
   "id": "146cacfc-1cde-4486-8632-279841fed492",
   "metadata": {},
   "outputs": [
    {
     "name": "stdout",
     "output_type": "stream",
     "text": [
      "train의 개수 : 674\n",
      "valid의 개수 : 131\n"
     ]
    }
   ],
   "source": [
    "print(f\"train의 개수 : {len(id_match_train)}\")\n",
    "print(f\"valid의 개수 : {len(id_match_valid)}\")"
   ]
  },
  {
   "cell_type": "code",
   "execution_count": 18,
   "id": "fab6842c-5537-4b9a-87ef-a605b3ee75ae",
   "metadata": {},
   "outputs": [],
   "source": [
    "# {\"queries\" : {\"uuid\":질문, ...} , \"corpus\" : {uuid\" : 답변, ...}, \"relevant_docs\" : {질문 uuid : [답변 uuid]}\n",
    "train = {\"queries\" : query_dict_train,\n",
    "        \"corpus\" :cont_dict_train,\n",
    "        \"relevant_docs\" : id_match_train}\n",
    "\n",
    "valid = {\"queries\" : query_dict_valid,\n",
    "        \"corpus\" :cont_dict_valid,\n",
    "        \"relevant_docs\" : id_match_valid}"
   ]
  },
  {
   "cell_type": "code",
   "execution_count": 27,
   "id": "685b64c0-9b7b-4669-9659-9e6d9d0111cd",
   "metadata": {},
   "outputs": [],
   "source": [
    "# 저장하기\n",
    "with open(\"./embedding_train_all.json\",\"w\", encoding= \"utf-8-sig\") as f:\n",
    "    json.dump(train, f,  ensure_ascii=False)\n",
    "    \n",
    "    \n",
    "with open(\"./embedding_valid.json\",\"w\", encoding= \"utf-8-sig\") as f:\n",
    "    json.dump(valid, f,  ensure_ascii=False)"
   ]
  },
  {
   "cell_type": "markdown",
   "id": "6e98f148-d16e-4569-a4ea-4b1bec2c0711",
   "metadata": {},
   "source": [
    "# Embedding Fine-tuning"
   ]
  },
  {
   "cell_type": "code",
   "execution_count": 19,
   "id": "c4e667bf-12b2-4890-acdd-f8896688b1bf",
   "metadata": {},
   "outputs": [],
   "source": [
    "model_id = \"BAAI/bge-m3\"  ## 기본 모델\n",
    "model = SentenceTransformer(model_id)"
   ]
  },
  {
   "cell_type": "code",
   "execution_count": 20,
   "id": "4bc3fcdb-038a-439c-9594-7e322e91dbb4",
   "metadata": {},
   "outputs": [],
   "source": [
    "# 데이터 불러오기\n",
    "with open(\"./embedding_train.json\", 'r', encoding = \"utf-8-sig\") as f:  # 각자 맞는 경로 설정\n",
    "    train_dataset = json.load(f)\n",
    "with open(\"./embedding_valid.json\", 'r', encoding = \"utf-8-sig\") as f:  # 각자 맞는 경로 설정\n",
    "    valid_dataset = json.load(f)"
   ]
  },
  {
   "cell_type": "code",
   "execution_count": 21,
   "id": "20272716-fd4c-4977-94d3-6af9ece9a878",
   "metadata": {},
   "outputs": [],
   "source": [
    "dataset = train_dataset\n",
    "\n",
    "corpus = dataset['corpus']\n",
    "queries = dataset['queries']\n",
    "relevant_docs = dataset['relevant_docs']\n",
    "\n",
    "examples = []\n",
    "for query_id, query in queries.items():\n",
    "    node_id = relevant_docs[query_id][0]\n",
    "    text = corpus[node_id]\n",
    "    example = InputExample(texts=[query, text])\n",
    "    examples.append(example)"
   ]
  },
  {
   "cell_type": "code",
   "execution_count": 22,
   "id": "ea482c6c-ae97-4300-bfcd-b43863ecc8a9",
   "metadata": {},
   "outputs": [],
   "source": [
    "BATCH_SIZE = 2\n",
    "loader = DataLoader(\n",
    "    examples, batch_size=BATCH_SIZE\n",
    ")\n",
    "loss = losses.MultipleNegativesRankingLoss(model)"
   ]
  },
  {
   "cell_type": "code",
   "execution_count": 23,
   "id": "7520aa55-0835-4e79-b608-06d042169ac3",
   "metadata": {},
   "outputs": [],
   "source": [
    "dataset = valid_dataset\n",
    "\n",
    "corpus = dataset['corpus']\n",
    "queries = dataset['queries']\n",
    "relevant_docs = dataset['relevant_docs']\n",
    "\n",
    "evaluator = InformationRetrievalEvaluator(queries, corpus, relevant_docs, batch_size = 8)"
   ]
  },
  {
   "cell_type": "code",
   "execution_count": null,
   "id": "cb4df62b-c140-4e9d-a4a8-6037dfdff5b9",
   "metadata": {},
   "outputs": [],
   "source": [
    "# gpu 할당방법\n",
    "model.to(\"cuda:1\")\n",
    "EPOCHS = 2\n",
    "\n",
    "warmup_steps = int(len(loader) * EPOCHS * 0.1)"
   ]
  },
  {
   "cell_type": "code",
   "execution_count": null,
   "id": "87235776-32ca-4c21-970d-f43338a5e6ed",
   "metadata": {},
   "outputs": [
    {
     "data": {
      "application/vnd.jupyter.widget-view+json": {
       "model_id": "03b37c2c185e4e52ac6a65778347ed46",
       "version_major": 2,
       "version_minor": 0
      },
      "text/plain": [
       "Epoch:   0%|          | 0/2 [00:00<?, ?it/s]"
      ]
     },
     "metadata": {},
     "output_type": "display_data"
    },
    {
     "data": {
      "application/vnd.jupyter.widget-view+json": {
       "model_id": "7e95ad471fd946fa8f559cd998019141",
       "version_major": 2,
       "version_minor": 0
      },
      "text/plain": [
       "Iteration:   0%|          | 0/324 [00:00<?, ?it/s]"
      ]
     },
     "metadata": {},
     "output_type": "display_data"
    }
   ],
   "source": [
    "# 모델 학습\n",
    "model.fit(\n",
    "    train_objectives=[(loader, loss)],\n",
    "    epochs=EPOCHS,\n",
    "    warmup_steps=warmup_steps,\n",
    "    output_path='exp_finetune',\n",
    "    show_progress_bar=True,\n",
    "    evaluator=evaluator, \n",
    "    evaluation_steps=50,\n",
    ")"
   ]
  },
  {
   "cell_type": "markdown",
   "id": "9f38c099-1c37-4ad5-a2c6-f4a455e8d444",
   "metadata": {},
   "source": [
    "# 학습한 Embedding 활용"
   ]
  },
  {
   "cell_type": "code",
   "execution_count": 25,
   "id": "8b7c38e0-0419-49f0-97c3-72a7412e2843",
   "metadata": {},
   "outputs": [],
   "source": [
    "# 학습한 모델 불러오기\n",
    "embedding_model = \"./exp_finetune\"  # 각자 embedding 모델 저장한 위치 지정\n",
    "model_kwargs={'device':'cpu'}\n",
    "encode_kwargs = {'normalize_embeddings':False}\n",
    "\n",
    "embeddings = HuggingFaceEmbeddings(\n",
    "    model_name=embedding_model,\n",
    "    model_kwargs=model_kwargs,\n",
    "    encode_kwargs=encode_kwargs\n",
    ")"
   ]
  },
  {
   "cell_type": "code",
   "execution_count": 27,
   "id": "f8d9be9a-ee5c-4204-9844-58943019bdaf",
   "metadata": {},
   "outputs": [],
   "source": [
    "# 사용 문서명 입력 (아래 두 개 중 하나)\n",
    "docs_nm1 = \"./datasets/etc/blog_final.csv\"  # 각자 맞는 경로 설정\n",
    "docs_nm2 = './datasets/etc/answer_summary_modify.csv'  # 각자 맞는 경로 설정"
   ]
  },
  {
   "cell_type": "code",
   "execution_count": 28,
   "id": "a43c1bf6-c7a4-43d2-9619-a29f12db2d32",
   "metadata": {},
   "outputs": [
    {
     "name": "stdout",
     "output_type": "stream",
     "text": [
      "127\n"
     ]
    }
   ],
   "source": [
    "from langchain.document_loaders import CSVLoader\n",
    "loader = CSVLoader(docs_nm1, encoding = \"euc-kr\")\n",
    "documents = loader.load()\n",
    "print(len(documents))"
   ]
  },
  {
   "cell_type": "code",
   "execution_count": 29,
   "id": "258cf8d6-08f9-4071-8185-c11535c8ef22",
   "metadata": {},
   "outputs": [
    {
     "name": "stdout",
     "output_type": "stream",
     "text": [
      "443\n"
     ]
    }
   ],
   "source": [
    "loader2 = CSVLoader(docs_nm2, encoding = \"utf-8-sig\")\n",
    "documents2 = loader2.load()\n",
    "print(len(documents2))"
   ]
  },
  {
   "cell_type": "code",
   "execution_count": 30,
   "id": "9c8fa49f-c776-43a9-9204-68c1c9fe298b",
   "metadata": {},
   "outputs": [],
   "source": [
    "# 두 문서 합치기\n",
    "cont1 = []\n",
    "for idx in range(len(documents)):\n",
    "    cont1.append(documents[idx].page_content.split(\"contents: \")[1])\n",
    "\n",
    "cont2 = []\n",
    "for idx in range(len(documents2)):\n",
    "    cont2.append(documents2[idx].page_content.split(\"contents: \")[1])\n",
    "\n",
    "contents = cont1+cont2"
   ]
  },
  {
   "cell_type": "code",
   "execution_count": 34,
   "id": "28eeb74f-16c3-47f9-a891-9b9e7d340eff",
   "metadata": {},
   "outputs": [],
   "source": [
    "# FAISS를 통한 문서 Indexing\n",
    "vectordb = FAISS.from_texts(\n",
    "    contents,  # 문서 지정\n",
    "    embedding = embeddings,  # embedding 지정\n",
    ")"
   ]
  },
  {
   "cell_type": "code",
   "execution_count": 35,
   "id": "c60d84b9-6085-4501-8fe5-0cd143986a0f",
   "metadata": {},
   "outputs": [],
   "source": [
    "# 선택할 관련 문서 개수 정하기\n",
    "retriever = vectordb.as_retriever(search_type = \"mmr\",search_kwargs={\"k\":3}) # 상위 3개의 결과를 반환"
   ]
  },
  {
   "cell_type": "code",
   "execution_count": 36,
   "id": "3c026f3a-3552-40df-8a7f-c4468457b80c",
   "metadata": {},
   "outputs": [
    {
     "name": "stdout",
     "output_type": "stream",
     "text": [
      "어떤 상황에 개별 공간이 더 적합한지, 어떤 상황에 오픈 플랜 공간이 더 적합한지 알려주세요.\n",
      "\n",
      "=========================================참조한 문서 확인하기=========================================\n",
      "질문 : 개별 공간과 오픈 플랜 공간 중에서 어떤 것이 더 나에게 알맞은 것인가요?  답변 : 개별 공간과 오픈 플랜은 각각의 특징을 가지고 있습니다. 개별 공간은 개인의 공간과 프라이버시를 제공하여 조용한 환경을 유지할 수 있고, 오픈 플랜은 공간을 확장시켜 연결감을 높이고 커다란 공간을 만들어 낼 수 있습니다. 선택은 개인의 선호와 생활 방식에 따라 다르며, 활발한 활동이 많은 경우에는 오픈 플랜이 더 적합할 수 있고, 개인적인 시간과 프라이버시를 중요시하는 경우에는 개별 공간이 더 적합할 수 있습니다.\n",
      "\n",
      "질문 : 복도나 입구를 환영스럽게 꾸미는 데 가장 좋은 방법이 있을까요?\n",
      " 어떻게 복도를 표현적인 공간으로 만들 수 있을까요?\n",
      " 복도를 더 밝게 만들기 위해서는 어떤 조명을 선택하는 것이 좋을까요?  답변 : 복도나 입구를 환영하는 분위기로 꾸미기 위해 밝고 따뜻한 조명, 거울, 화사한 컬러, 개인적인 요소를 활용하는 걸 추천드립니다. 밝은 조명으로 복도 분위기를 환하게 하고, 거울을 사용해 빛을 반사시켜 복도를 더 넓고 밝아 보이게 할 수 있습니다. 더불어 화사한 컬러의 벽지나 인테리어 소품을 활용해 포인트 컬러를 더해주면 환영스러운 분위기를 연출할 수 있습니다. 마지막으로 사진, 식물 등 개인적인 요소를 추가하여 포인트를 주는 것도 좋은 방법입니다.\n",
      "\n",
      "질문 : 어떻게 오피스 공간을 집에 통합하여 효율적으로 활용할 수 있을까요?\n",
      " 작은 공간을 활용하여 효과적인 홈오피스를 만드는 방법이 무엇인가요?\n",
      " 작은 공간을 활용하여 효과적인 홈오피스를 만들기 위해 필요한 가구나 수납 공간에 대한 조언이 있을까요?\n",
      " 집 안에 있는 오피스 공간을 어떻게 효율적으로 활용할 수 있을까요?  답변 : 오피스를 집에 통합하여 효율적으로 활용하는 팁은 다양합니다. 먼저, 개별 작업대를 만들어 업무나 공부 전용 공간을 마련하세요. 조용한 구역을 선택하고 창문이나 자연 채광을 활용하여 밝은 분위기를 조성하세요. 필수 용품을 갖추고 인터넷 및 전원 콘센트가 편리한 위치에 배치하세요. 업무 종료 시간을 명확히 하고 업무 공간을 정리하는 습관을 들이세요. 작은 공간에는 벽면을 활용한 수납, 접이식 가구, 밝은 컬러 스키마 등을 활용하여 효과적인 홈오피스를 조성할 수 있습니다.\n",
      "\n",
      "CPU times: user 776 ms, sys: 0 ns, total: 776 ms\n",
      "Wall time: 66.9 ms\n"
     ]
    }
   ],
   "source": [
    "%%time\n",
    "# Retrievr 테스트\n",
    "query = \"어떤 상황에 개별 공간이 더 적합한지, 어떤 상황에 오픈 플랜 공간이 더 적합한지 알려주세요.\"\n",
    "print(query)\n",
    "print()\n",
    "docs = retriever.get_relevant_documents(query, consider_metadata=True)\n",
    "\n",
    "print(\"=========================================참조한 문서 확인하기=========================================\")\n",
    "for i in docs:\n",
    "    print(i.page_content)\n",
    "    print()"
   ]
  }
 ],
 "metadata": {
  "kernelspec": {
   "display_name": "Python 3 (ipykernel)",
   "language": "python",
   "name": "python3"
  },
  "language_info": {
   "codemirror_mode": {
    "name": "ipython",
    "version": 3
   },
   "file_extension": ".py",
   "mimetype": "text/x-python",
   "name": "python",
   "nbconvert_exporter": "python",
   "pygments_lexer": "ipython3",
   "version": "3.11.5"
  }
 },
 "nbformat": 4,
 "nbformat_minor": 5
}
