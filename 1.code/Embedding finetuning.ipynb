{
 "cells": [
  {
   "cell_type": "code",
   "execution_count": 1,
   "id": "59152c43",
   "metadata": {},
   "outputs": [],
   "source": [
    "import pandas as pd\n",
    "import numpy as np\n",
    "import json"
   ]
  },
  {
   "cell_type": "code",
   "execution_count": 3,
   "id": "e8984ced",
   "metadata": {},
   "outputs": [],
   "source": [
    "summary = pd.read_csv(\"./Desktop/answer_summary_modify.csv\", index_col = 0)"
   ]
  },
  {
   "cell_type": "code",
   "execution_count": 4,
   "id": "a117d1cd",
   "metadata": {
    "scrolled": true
   },
   "outputs": [
    {
     "data": {
      "text/html": [
       "<div>\n",
       "<style scoped>\n",
       "    .dataframe tbody tr th:only-of-type {\n",
       "        vertical-align: middle;\n",
       "    }\n",
       "\n",
       "    .dataframe tbody tr th {\n",
       "        vertical-align: top;\n",
       "    }\n",
       "\n",
       "    .dataframe thead th {\n",
       "        text-align: right;\n",
       "    }\n",
       "</style>\n",
       "<table border=\"1\" class=\"dataframe\">\n",
       "  <thead>\n",
       "    <tr style=\"text-align: right;\">\n",
       "      <th></th>\n",
       "      <th>idx</th>\n",
       "      <th>contents</th>\n",
       "    </tr>\n",
       "  </thead>\n",
       "  <tbody>\n",
       "    <tr>\n",
       "      <th>0</th>\n",
       "      <td>ABC 소화기</td>\n",
       "      <td>질문 : ABC 소화기란 무엇인가요?  답변 : ABC 소화기는 A, B, C 등급...</td>\n",
       "    </tr>\n",
       "    <tr>\n",
       "      <th>1</th>\n",
       "      <td>AD, PD에 면한 벽체 결로 대책</td>\n",
       "      <td>질문 :  AD, PD에 면한 벽체 결로에 대한 대책은 어떤 것이 있나요?  답변 ...</td>\n",
       "    </tr>\n",
       "    <tr>\n",
       "      <th>2</th>\n",
       "      <td>AD, PD에 면한 벽체 결로 원인</td>\n",
       "      <td>질문 :  AD, PD에 면한 벽체 결로의 원인이 뭐야?  답변 : 결로가 발생하는...</td>\n",
       "    </tr>\n",
       "    <tr>\n",
       "      <th>3</th>\n",
       "      <td>KMEW 세라믹 지붕재</td>\n",
       "      <td>질문 : KMEW 세라믹 지붕재가 뭐야?  \\nKMEW 세라믹 지붕재의 장점은 무엇...</td>\n",
       "    </tr>\n",
       "    <tr>\n",
       "      <th>4</th>\n",
       "      <td>MSDS</td>\n",
       "      <td>질문 : MSDS(Material Safety Data Sheet)는 어떤 정보를 ...</td>\n",
       "    </tr>\n",
       "    <tr>\n",
       "      <th>...</th>\n",
       "      <td>...</td>\n",
       "      <td>...</td>\n",
       "    </tr>\n",
       "    <tr>\n",
       "      <th>455</th>\n",
       "      <td>흡음재</td>\n",
       "      <td>질문 : 흡음이 뭐야?\\n흡음재는 무엇인가요?  답변 : 흡음은 외부에서 발생하는 ...</td>\n",
       "    </tr>\n",
       "    <tr>\n",
       "      <th>456</th>\n",
       "      <td>흡음재 공명형</td>\n",
       "      <td>질문 : 흡음재 중 공명형이 뭐야?  답변 : 흡음재 중 공명형은 작은 구멍이나 틈...</td>\n",
       "    </tr>\n",
       "    <tr>\n",
       "      <th>457</th>\n",
       "      <td>흡음재 다공질</td>\n",
       "      <td>질문 : 흡음재 중 다공질에는 어떤 종류가 있는지 알려주세요.\\n 흡음재 중 다공질...</td>\n",
       "    </tr>\n",
       "    <tr>\n",
       "      <th>458</th>\n",
       "      <td>흡음재 판 진동형</td>\n",
       "      <td>질문 : 흡음재 중 판 진동형이 뭐야?  답변 : 흡음재 중 판 진동형은 벽과 간격...</td>\n",
       "    </tr>\n",
       "    <tr>\n",
       "      <th>459</th>\n",
       "      <td>고층건물 단열</td>\n",
       "      <td>질문 : 고층건물의 단열 시공은 어떻게 해야 하나요?\\n답변 : 고층건물은 철골구조...</td>\n",
       "    </tr>\n",
       "  </tbody>\n",
       "</table>\n",
       "<p>443 rows × 2 columns</p>\n",
       "</div>"
      ],
      "text/plain": [
       "                     idx                                           contents\n",
       "0                ABC 소화기  질문 : ABC 소화기란 무엇인가요?  답변 : ABC 소화기는 A, B, C 등급...\n",
       "1    AD, PD에 면한 벽체 결로 대책  질문 :  AD, PD에 면한 벽체 결로에 대한 대책은 어떤 것이 있나요?  답변 ...\n",
       "2    AD, PD에 면한 벽체 결로 원인  질문 :  AD, PD에 면한 벽체 결로의 원인이 뭐야?  답변 : 결로가 발생하는...\n",
       "3           KMEW 세라믹 지붕재  질문 : KMEW 세라믹 지붕재가 뭐야?  \\nKMEW 세라믹 지붕재의 장점은 무엇...\n",
       "4                   MSDS  질문 : MSDS(Material Safety Data Sheet)는 어떤 정보를 ...\n",
       "..                   ...                                                ...\n",
       "455                  흡음재  질문 : 흡음이 뭐야?\\n흡음재는 무엇인가요?  답변 : 흡음은 외부에서 발생하는 ...\n",
       "456              흡음재 공명형  질문 : 흡음재 중 공명형이 뭐야?  답변 : 흡음재 중 공명형은 작은 구멍이나 틈...\n",
       "457              흡음재 다공질  질문 : 흡음재 중 다공질에는 어떤 종류가 있는지 알려주세요.\\n 흡음재 중 다공질...\n",
       "458            흡음재 판 진동형  질문 : 흡음재 중 판 진동형이 뭐야?  답변 : 흡음재 중 판 진동형은 벽과 간격...\n",
       "459              고층건물 단열  질문 : 고층건물의 단열 시공은 어떻게 해야 하나요?\\n답변 : 고층건물은 철골구조...\n",
       "\n",
       "[443 rows x 2 columns]"
      ]
     },
     "execution_count": 4,
     "metadata": {},
     "output_type": "execute_result"
    }
   ],
   "source": [
    "summary"
   ]
  },
  {
   "cell_type": "code",
   "execution_count": 30,
   "id": "37aaf8bc",
   "metadata": {},
   "outputs": [],
   "source": [
    "train_new = []\n",
    "valid_new = []\n",
    "for i in range(len(summary[\"contents\"][:354])):\n",
    "    q = summary.iloc[i,1].split(\"답변 :\")[0].split(\"질문 : \")[1].strip()\n",
    "    a = summary.iloc[i,1].split(\"답변 :\")[1].strip()\n",
    "    train_new.append([q.split(\"\\n\"), a])\n",
    "    \n",
    "for i in range(len(summary[\"contents\"][354:])):\n",
    "    q = summary.iloc[i,1].split(\"답변 :\")[0].split(\"질문 : \")[1].strip()\n",
    "    a = summary.iloc[i,1].split(\"답변 :\")[1].strip()\n",
    "    valid_new.append([q.split(\"\\n\"), a])"
   ]
  },
  {
   "cell_type": "code",
   "execution_count": 31,
   "id": "7dae80f5",
   "metadata": {},
   "outputs": [],
   "source": [
    "train_pre_new = []\n",
    "valid_pre_new = []\n",
    "for i in train_new:\n",
    "    for j in i[0]:\n",
    "        train_pre_new.append([j.strip(),i[1].strip()])\n",
    "        \n",
    "for i in valid_new:\n",
    "    for j in i[0]:\n",
    "        valid_pre_new.append([j.strip(),i[1].strip()])"
   ]
  },
  {
   "cell_type": "code",
   "execution_count": 34,
   "id": "204db5c8",
   "metadata": {},
   "outputs": [],
   "source": [
    "for i in train_new:\n",
    "    if i[0].count(\"?\")>=2:\n",
    "        print(i[0])"
   ]
  },
  {
   "cell_type": "markdown",
   "id": "24fb41db",
   "metadata": {},
   "source": [
    "# Make dataset for Embedding Fine-tuning"
   ]
  },
  {
   "cell_type": "code",
   "execution_count": 8,
   "id": "a5c07e9c",
   "metadata": {},
   "outputs": [],
   "source": [
    "import uuid"
   ]
  },
  {
   "cell_type": "code",
   "execution_count": 9,
   "id": "8aa04ce1",
   "metadata": {},
   "outputs": [
    {
     "data": {
      "text/plain": [
       "'1cc7f84c-f5b4-11ee-9575-b3f486b52161'"
      ]
     },
     "execution_count": 9,
     "metadata": {},
     "output_type": "execute_result"
    }
   ],
   "source": [
    "str(uuid.uuid1())"
   ]
  },
  {
   "cell_type": "code",
   "execution_count": 37,
   "id": "2bcc8d7f",
   "metadata": {},
   "outputs": [],
   "source": [
    "train = train_pre_new\n",
    "valid = valid_pre_new"
   ]
  },
  {
   "cell_type": "code",
   "execution_count": 40,
   "id": "1c27520b",
   "metadata": {},
   "outputs": [
    {
     "name": "stdout",
     "output_type": "stream",
     "text": [
      "[['ABC 소화기란 무엇인가요?', 'ABC 소화기는 A, B, C 등급의 화재를 진압할 수 있는 소화기로, A는 일반화재, B는 유류 화재, C는 전기 화재를 의미합니다. ABC 소화기는 다양한 종류의 화재에 대처할 수 있어서 일반적으로 많이 사용됩니다. 이러한 분류는 소화기가 다양한 화재 유형에 대응할 수 있도록 하는 역할을 합니다.'], ['AD, PD에 면한 벽체 결로에 대한 대책은 어떤 것이 있나요?', 'AD, PD에 면한 벽체 결로에 대한 대책은 단열재를 미실하게 시공하여 결로가 생기는 벽체의 표면 온도를 노점온도 이상으로 유지하는 것이 중요합니다. 또한, 외피재와의 기밀성을 유지하고 습기 유입을 차단하며, 건조한 환경을 유지하고 벽체의 통풍을 개선하여 습기가 벽체 내부로 퍼지는 것을 방지해야 합니다.'], ['AD, PD에 면한 벽체 결로의 원인이 뭐야?', '결로가 발생하는 원인은 외기에 접하는 면 좌, 우측 벽체에 단열재가 부족하거나 결함이 있어 외기와의 열적 경계가 불완전하여 습기로 인해 발생하는 것이 일반적입니다. 따라서, 단열재의 보강과 수정이 필요합니다.'], ['KMEW 세라믹 지붕재가 뭐야?', 'KMEW 세라믹 지붕재는 산화티타늄 처리를 한 지붕재로, 정전기 방지 및 유지관리 비용 절감, 우풍 및 지진에 대한 강건성이 장점입니다. 또한, 내구성이 뛰어나고 친환경적이며, 미적인 면에서도 우수합니다. 단점은 주로 수입품이기 때문에 비싼 가격과 금속 지붕재에 비해 무거운 무게가 있습니다. 무게로 인해 추가적인 강화와 지지대가 필요하여 공사 비용이 증가할 수 있기 때문에 설치 및 유지 보수 비용도 고려해야 합니다.'], ['KMEW 세라믹 지붕재의 장점은 무엇인가요?', 'KMEW 세라믹 지붕재는 산화티타늄 처리를 한 지붕재로, 정전기 방지 및 유지관리 비용 절감, 우풍 및 지진에 대한 강건성이 장점입니다. 또한, 내구성이 뛰어나고 친환경적이며, 미적인 면에서도 우수합니다. 단점은 주로 수입품이기 때문에 비싼 가격과 금속 지붕재에 비해 무거운 무게가 있습니다. 무게로 인해 추가적인 강화와 지지대가 필요하여 공사 비용이 증가할 수 있기 때문에 설치 및 유지 보수 비용도 고려해야 합니다.']]\n",
      "[['ABC 소화기란 무엇인가요?', 'ABC 소화기는 A, B, C 등급의 화재를 진압할 수 있는 소화기로, A는 일반화재, B는 유류 화재, C는 전기 화재를 의미합니다. ABC 소화기는 다양한 종류의 화재에 대처할 수 있어서 일반적으로 많이 사용됩니다. 이러한 분류는 소화기가 다양한 화재 유형에 대응할 수 있도록 하는 역할을 합니다.'], ['AD, PD에 면한 벽체 결로에 대한 대책은 어떤 것이 있나요?', 'AD, PD에 면한 벽체 결로에 대한 대책은 단열재를 미실하게 시공하여 결로가 생기는 벽체의 표면 온도를 노점온도 이상으로 유지하는 것이 중요합니다. 또한, 외피재와의 기밀성을 유지하고 습기 유입을 차단하며, 건조한 환경을 유지하고 벽체의 통풍을 개선하여 습기가 벽체 내부로 퍼지는 것을 방지해야 합니다.'], ['AD, PD에 면한 벽체 결로의 원인이 뭐야?', '결로가 발생하는 원인은 외기에 접하는 면 좌, 우측 벽체에 단열재가 부족하거나 결함이 있어 외기와의 열적 경계가 불완전하여 습기로 인해 발생하는 것이 일반적입니다. 따라서, 단열재의 보강과 수정이 필요합니다.'], ['KMEW 세라믹 지붕재가 뭐야?', 'KMEW 세라믹 지붕재는 산화티타늄 처리를 한 지붕재로, 정전기 방지 및 유지관리 비용 절감, 우풍 및 지진에 대한 강건성이 장점입니다. 또한, 내구성이 뛰어나고 친환경적이며, 미적인 면에서도 우수합니다. 단점은 주로 수입품이기 때문에 비싼 가격과 금속 지붕재에 비해 무거운 무게가 있습니다. 무게로 인해 추가적인 강화와 지지대가 필요하여 공사 비용이 증가할 수 있기 때문에 설치 및 유지 보수 비용도 고려해야 합니다.'], ['KMEW 세라믹 지붕재의 장점은 무엇인가요?', 'KMEW 세라믹 지붕재는 산화티타늄 처리를 한 지붕재로, 정전기 방지 및 유지관리 비용 절감, 우풍 및 지진에 대한 강건성이 장점입니다. 또한, 내구성이 뛰어나고 친환경적이며, 미적인 면에서도 우수합니다. 단점은 주로 수입품이기 때문에 비싼 가격과 금속 지붕재에 비해 무거운 무게가 있습니다. 무게로 인해 추가적인 강화와 지지대가 필요하여 공사 비용이 증가할 수 있기 때문에 설치 및 유지 보수 비용도 고려해야 합니다.']]\n"
     ]
    }
   ],
   "source": [
    "print(train[:5])\n",
    "print(valid[:5])"
   ]
  },
  {
   "cell_type": "markdown",
   "id": "a3251976",
   "metadata": {},
   "source": [
    "##### train&valid"
   ]
  },
  {
   "cell_type": "code",
   "execution_count": 41,
   "id": "4d75842f",
   "metadata": {},
   "outputs": [],
   "source": [
    "def query_dict(train):\n",
    "    query_dict_train = {}\n",
    "    query_dict_temp_train = {}\n",
    "    for query in train:\n",
    "        id_ = uuid.uuid1()\n",
    "        query_dict_train[str(id_)] = query[0]\n",
    "        query_dict_temp_train[query[0]] = str(id_)\n",
    "    return query_dict_train, query_dict_temp_train"
   ]
  },
  {
   "cell_type": "code",
   "execution_count": 42,
   "id": "8b00a2b4",
   "metadata": {},
   "outputs": [],
   "source": [
    "query_dict_train, query_dict_temp_train = query_dict(train)\n",
    "query_dict_valid, query_dict_temp_valid = query_dict(valid)"
   ]
  },
  {
   "cell_type": "code",
   "execution_count": 44,
   "id": "1052c406",
   "metadata": {},
   "outputs": [],
   "source": [
    "def cont_dict(pre_new):\n",
    "    unique_contents = set()\n",
    "    for i in pre_new:\n",
    "        unique_contents.add(i[1])\n",
    "        \n",
    "    unique_contents = list(unique_contents)\n",
    "    \n",
    "    cont_dict = {}\n",
    "    cont_dict_temp = {}\n",
    "    for contents in unique_contents:\n",
    "        id_ = uuid.uuid1()\n",
    "        cont_dict[str(id_)] = contents\n",
    "        cont_dict_temp[contents] = str(id_)\n",
    "    return cont_dict, cont_dict_temp"
   ]
  },
  {
   "cell_type": "code",
   "execution_count": 45,
   "id": "806cb5fa",
   "metadata": {},
   "outputs": [],
   "source": [
    "cont_dict_train, cont_dict_temp_train = cont_dict(train)\n",
    "cont_dict_valid, cont_dict_temp_valid = cont_dict(valid)"
   ]
  },
  {
   "cell_type": "code",
   "execution_count": 46,
   "id": "0b2bc042",
   "metadata": {},
   "outputs": [],
   "source": [
    "def make_id_match(pre_new, query_dict_temp, cont_dict_temp):\n",
    "    id_match_train = {}\n",
    "    for i in pre_new:\n",
    "        id_match_train[query_dict_temp[i[0]]] = [cont_dict_temp[i[1]]]\n",
    "    return id_match_train"
   ]
  },
  {
   "cell_type": "code",
   "execution_count": 47,
   "id": "eb4b4546",
   "metadata": {},
   "outputs": [],
   "source": [
    "id_match_train = make_id_match(train, query_dict_temp_train, cont_dict_temp_train)\n",
    "id_match_valid = make_id_match(valid, query_dict_temp_valid, cont_dict_temp_valid)"
   ]
  },
  {
   "cell_type": "code",
   "execution_count": 50,
   "id": "f54a01be",
   "metadata": {},
   "outputs": [
    {
     "name": "stdout",
     "output_type": "stream",
     "text": [
      "train의 개수 : 676\n",
      "valid의 개수 : 131\n"
     ]
    }
   ],
   "source": [
    "print(f\"train의 개수 : {len(id_match_train)}\")\n",
    "print(f\"valid의 개수 : {len(id_match_valid)}\")"
   ]
  },
  {
   "cell_type": "code",
   "execution_count": 51,
   "id": "df1b3624",
   "metadata": {},
   "outputs": [],
   "source": [
    "train = {\"queries\" : query_dict_train,\n",
    "        \"corpus\" :cont_dict_train,\n",
    "        \"relevant_docs\" : id_match_train}\n",
    "\n",
    "valid = {\"queries\" : query_dict_valid,\n",
    "        \"corpus\" :cont_dict_valid,\n",
    "        \"relevant_docs\" : id_match_valid}"
   ]
  },
  {
   "cell_type": "code",
   "execution_count": 52,
   "id": "086c63e5",
   "metadata": {},
   "outputs": [],
   "source": [
    "# 저장하기\n",
    "with open(\"./embedding_train_all.json\",\"w\", encoding= \"utf-8-sig\") as f:\n",
    "    json.dump(train, f,  ensure_ascii=False)\n",
    "    \n",
    "    \n",
    "with open(\"./embedding_valid.json\",\"w\", encoding= \"utf-8-sig\") as f:\n",
    "    json.dump(valid, f,  ensure_ascii=False)"
   ]
  }
 ],
 "metadata": {
  "kernelspec": {
   "display_name": "Python 3 (ipykernel)",
   "language": "python",
   "name": "python3"
  },
  "language_info": {
   "codemirror_mode": {
    "name": "ipython",
    "version": 3
   },
   "file_extension": ".py",
   "mimetype": "text/x-python",
   "name": "python",
   "nbconvert_exporter": "python",
   "pygments_lexer": "ipython3",
   "version": "3.11.5"
  }
 },
 "nbformat": 4,
 "nbformat_minor": 5
}
